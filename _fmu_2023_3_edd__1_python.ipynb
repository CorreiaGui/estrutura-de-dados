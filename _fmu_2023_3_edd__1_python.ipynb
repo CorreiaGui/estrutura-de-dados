{
  "nbformat": 4,
  "nbformat_minor": 0,
  "metadata": {
    "colab": {
      "provenance": []
    },
    "kernelspec": {
      "name": "python3",
      "display_name": "Python 3"
    },
    "language_info": {
      "name": "python"
    }
  },
  "cells": [
    {
      "cell_type": "markdown",
      "source": [
        "### Início"
      ],
      "metadata": {
        "id": "VUuVRMGybnwG"
      }
    },
    {
      "cell_type": "code",
      "execution_count": null,
      "metadata": {
        "colab": {
          "base_uri": "https://localhost:8080/"
        },
        "id": "1vASTzX9TJdX",
        "outputId": "6a42d5b6-ee5b-4537-bc66-ac8dc38335f3"
      },
      "outputs": [
        {
          "output_type": "stream",
          "name": "stdout",
          "text": [
            "Nome: Alisson\n",
            "Idade: 22\n",
            "Você nasceu em 2000, Alisson?\n"
          ]
        }
      ],
      "source": [
        "# Uhul mais uma introdução ao python... que divertido...\n",
        "nome = str(input(\"Nome: \"))\n",
        "idade = int(input(\"Idade: \"))\n",
        "\n",
        "nasc = 2023 - idade\n",
        "\n",
        "print(f\"Você nasceu em {nasc}, {nome}?\")"
      ]
    },
    {
      "cell_type": "code",
      "source": [
        "nome = str(input(\"Nome: \"))\n",
        "nota = 0;\n",
        "\n",
        "for i in range(3):\n",
        "    nota += float(input(f\"Nota {i+1}: \"))\n",
        "\n",
        "print(f\"{nome}, sua média é: {nota/3:.2f}\");"
      ],
      "metadata": {
        "colab": {
          "base_uri": "https://localhost:8080/"
        },
        "id": "aE_x50T2ZFAJ",
        "outputId": "2c745bf6-a1ae-405b-af44-54b58ab11bfd"
      },
      "execution_count": null,
      "outputs": [
        {
          "output_type": "stream",
          "name": "stdout",
          "text": [
            "Nome: Alisson\n",
            "Nota 1: 5\n",
            "Nota 2: 5\n",
            "Nota 3: 10\n",
            "Alisson, sua média é: 6.67\n"
          ]
        }
      ]
    },
    {
      "cell_type": "markdown",
      "source": [
        "___\n",
        "___\n",
        "### Aula 22-03 - Listas e bibliotecas\n",
        "\n"
      ],
      "metadata": {
        "id": "oRrjlL-NZo2R"
      }
    },
    {
      "cell_type": "code",
      "source": [
        "lista = [\"aaa\", 1234, 'c']\n",
        "\n",
        "for element in lista:\n",
        "    print(element)\n",
        "\n",
        "lista.append(500)\n",
        "print(lista)"
      ],
      "metadata": {
        "id": "rHjMmV-pd5iw",
        "colab": {
          "base_uri": "https://localhost:8080/"
        },
        "outputId": "b1fe88fb-63a3-40a5-a3e1-0f80209ccd31"
      },
      "execution_count": null,
      "outputs": [
        {
          "output_type": "stream",
          "name": "stdout",
          "text": [
            "aaa\n",
            "1234\n",
            "c\n",
            "['aaa', 1234, 'c', 500]\n",
            "['aaa', 1234, 'c', 500]\n"
          ]
        }
      ]
    },
    {
      "cell_type": "code",
      "source": [],
      "metadata": {
        "id": "6x8Oi8Ulka5U"
      },
      "execution_count": null,
      "outputs": []
    },
    {
      "cell_type": "markdown",
      "source": [
        "Listas como pilhas (LIFO)"
      ],
      "metadata": {
        "id": "W9BGMC5jfjnm"
      }
    },
    {
      "cell_type": "code",
      "source": [
        "stack = [1, 2, 3, 4, 5]\n",
        "stack.append(6)\n",
        "print(stack)\n",
        "\n",
        "stack.pop()\n",
        "print(stack)\n"
      ],
      "metadata": {
        "colab": {
          "base_uri": "https://localhost:8080/"
        },
        "id": "D4KG1q0haL3M",
        "outputId": "8c5647c5-379c-4f77-f916-4d35ef2138b5"
      },
      "execution_count": null,
      "outputs": [
        {
          "output_type": "stream",
          "name": "stdout",
          "text": [
            "[1, 2, 3, 4, 5, 6]\n",
            "[1, 2, 3, 4, 5]\n"
          ]
        }
      ]
    },
    {
      "cell_type": "markdown",
      "source": [
        "#### List comprehension\n",
        "Extraindo apenas os nºs pares de uma lista para outra"
      ],
      "metadata": {
        "id": "EyufYgYXg9Za"
      }
    },
    {
      "cell_type": "code",
      "source": [
        "lista = list(range(1,11))\n",
        "pares = []\n",
        "\n",
        "# sem comprehension\n",
        "for element in lista:\n",
        "    if element % 2 == 0:\n",
        "        pares.append(element)\n",
        "\n",
        "print(lista)\n",
        "print(pares)\n",
        "\n",
        "# com comprehension\n",
        "impar = [element for element in lista if (element % 2 != 0)]\n",
        "print(impar)\n",
        "\n"
      ],
      "metadata": {
        "colab": {
          "base_uri": "https://localhost:8080/"
        },
        "id": "68oWW0MhhCrG",
        "outputId": "66050d7e-0073-479b-f533-32d64bff90a4"
      },
      "execution_count": null,
      "outputs": [
        {
          "output_type": "stream",
          "name": "stdout",
          "text": [
            "[1, 2, 3, 4, 5, 6, 7, 8, 9, 10]\n",
            "[2, 4, 6, 8, 10]\n",
            "[1, 3, 5, 7, 9]\n"
          ]
        }
      ]
    },
    {
      "cell_type": "markdown",
      "source": [
        "#### Exercícios"
      ],
      "metadata": {
        "id": "n6bCFKi0rVXm"
      }
    },
    {
      "cell_type": "code",
      "source": [
        "import random"
      ],
      "metadata": {
        "id": "_jorRtSuud3h"
      },
      "execution_count": null,
      "outputs": []
    },
    {
      "cell_type": "code",
      "source": [
        "# 1.\n",
        "lista = []\n",
        "print(\"Valores de uma lista\")\n",
        "for i in range(5):\n",
        "    num = int(input(f\"{i+1}º número: \"))\n",
        "    lista.append(num)\n",
        "\n",
        "print()\n",
        "print(\"Maior:\", max(lista))\n",
        "print(\"Menor:\", min(lista))\n",
        "print(\"Tamanho:\", len(lista))\n",
        "print(\"Último:\", lista[-1], \"\\n\")"
      ],
      "metadata": {
        "id": "nvyFNPQXhZ-g"
      },
      "execution_count": null,
      "outputs": []
    },
    {
      "cell_type": "code",
      "source": [
        "#2.\n",
        "nomes = []\n",
        "\n",
        "print(\"Sortear nome\")\n",
        "for i in range(5):\n",
        "    nome = str(input(f\"{i+1}º nome:\"))\n",
        "    nomes.append(nome)\n",
        "\n",
        "print(\"Nome sorteado: \", random.choice(nomes), \"\\n\")"
      ],
      "metadata": {
        "id": "t3UV0TOAxYh6"
      },
      "execution_count": null,
      "outputs": []
    },
    {
      "cell_type": "code",
      "source": [
        "#3.\n",
        "print(\"Média de 3 notas\")\n",
        "aluno = str(input(\"Nome: \"))\n",
        "notas = [];\n",
        "\n",
        "for i in range(3):\n",
        "    notas.append(float(input(f\"Nota {i+1}: \")))\n",
        "\n",
        "media = 0\n",
        "for nota in notas:\n",
        "    media += nota\n",
        "\n",
        "print(f\"{aluno}, sua média é: {media/3:.2f}\");"
      ],
      "metadata": {
        "id": "a4TNiz6MvNHL"
      },
      "execution_count": null,
      "outputs": []
    },
    {
      "cell_type": "code",
      "source": [
        "#4\n",
        "lista = list(range(1,20, 3))\n",
        "par = []\n",
        "imp = []\n",
        "\n",
        "for element in lista:\n",
        "    if element % 2 == 0:\n",
        "        par.append(element)\n",
        "    else:\n",
        "        imp.append(element)\n",
        "\n",
        "print(f\"Lista: {lista} \\npares: {par} \\nímpares: {imp}\")"
      ],
      "metadata": {
        "id": "I5ElqK7VxxdZ",
        "colab": {
          "base_uri": "https://localhost:8080/"
        },
        "outputId": "d9eb7616-2ca2-4552-9723-7b9958c62e10"
      },
      "execution_count": null,
      "outputs": [
        {
          "output_type": "stream",
          "name": "stdout",
          "text": [
            "Lista: [1, 4, 7, 10, 13, 16, 19] \n",
            "pares: [4, 10, 16] \n",
            "ímpares: [1, 7, 13, 19]\n"
          ]
        }
      ]
    },
    {
      "cell_type": "code",
      "source": [
        "#5\n",
        "n = int(input(\"Procure um nº na lista anterior: \"))\n",
        "if n in lista:\n",
        "    print(f\"{n} está na lista\")"
      ],
      "metadata": {
        "id": "ILW21uZ5ynX9"
      },
      "execution_count": null,
      "outputs": []
    },
    {
      "cell_type": "markdown",
      "source": [
        "___\n",
        "___\n",
        "### Aula 29-03 - Filas\n"
      ],
      "metadata": {
        "id": "9dqhWSxVbcZW"
      }
    },
    {
      "cell_type": "markdown",
      "source": [
        "#### Exercício Senhas"
      ],
      "metadata": {
        "id": "yaQiaHqxwWKE"
      }
    },
    {
      "cell_type": "code",
      "source": [
        "import random"
      ],
      "metadata": {
        "id": "G1L6ZfnsheEX"
      },
      "execution_count": null,
      "outputs": []
    },
    {
      "cell_type": "code",
      "source": [
        "# Gere uma fila de senhas e permita o usuário inserir um número aleatório no final\n",
        "fila = []\n",
        "\n",
        "# Loop principal\n",
        "opcao = 0\n",
        "while True:\n",
        "    if opcao == 4:\n",
        "        break\n",
        "\n",
        "    else:\n",
        "        print(\n",
        "        \"\\n===================\\n\",\n",
        "        \"Digite sua opção: \\n\", \n",
        "        \"  1. Emitir senha \\n\",\n",
        "        \"  2. Mostrar fila \\n\",\n",
        "        \"  3. Chamar senha \\n\",\n",
        "        \"  4. Sair\"\n",
        "        )\n",
        "\n",
        "        opcao = int(input(\"> \"))\n",
        "\n",
        "        if opcao == 1:\n",
        "            fila.append(random.randint(100, 999) \n",
        "            print(f\"--> Senha {senha} adicionada\")\n",
        "        \n",
        "        elif opcao == 2:\n",
        "            if len(fila) != 0:\n",
        "                print(f\"--> Fila: {fila}\")\n",
        "            else:\n",
        "                print(\"--> A fila está vazia\")\n",
        "\n",
        "        elif opcao == 3:\n",
        "            if len(fila) >= 1:\n",
        "                print(f\"--> Próxima senha: {fila[0]}\")\n",
        "                fila.pop(0)\n",
        "            else:\n",
        "                print(\"--> A fila está vazia\")"
      ],
      "metadata": {
        "id": "7SA4ThMQbmpZ"
      },
      "execution_count": null,
      "outputs": []
    },
    {
      "cell_type": "code",
      "source": [],
      "metadata": {
        "id": "Emeg_7GBgYWx"
      },
      "execution_count": null,
      "outputs": []
    },
    {
      "cell_type": "markdown",
      "source": [
        "#### Tuplas\n",
        "Ordenada e imutável, usa menos memória *(o que é totalmente irrelevante no python)*"
      ],
      "metadata": {
        "id": "75pH0kzuxXOh"
      }
    },
    {
      "cell_type": "code",
      "source": [
        "tupla = (1, 2, 3, 4)\n",
        "print(tupla)"
      ],
      "metadata": {
        "colab": {
          "base_uri": "https://localhost:8080/"
        },
        "id": "i7miuJafxZL1",
        "outputId": "9290f360-1fb6-4168-de7d-d7034359ab54"
      },
      "execution_count": null,
      "outputs": [
        {
          "output_type": "stream",
          "name": "stdout",
          "text": [
            "(1, 2, 3, 4)\n"
          ]
        }
      ]
    },
    {
      "cell_type": "code",
      "source": [],
      "metadata": {
        "id": "_DQQw_Sky6gc"
      },
      "execution_count": null,
      "outputs": []
    },
    {
      "cell_type": "markdown",
      "source": [
        "___\n",
        "___\n",
        "### Aula 05-04 - Pandas e dataframes"
      ],
      "metadata": {
        "id": "PesW6b5DfuBK"
      }
    },
    {
      "cell_type": "code",
      "source": [
        "import pandas as pd"
      ],
      "metadata": {
        "id": "mgCkgq6mfy7J"
      },
      "execution_count": null,
      "outputs": []
    },
    {
      "cell_type": "code",
      "source": [
        "dados = pd.read_excel('/content/pessoas.xlsx')\n",
        "dados\n",
        "\n",
        "dados['IDADE']\n",
        "dados[dados[\"NOME\"] == 'Guilherme']\n",
        "\n",
        "#transformando uma coluna do dataframe em uma lista\n",
        "nomes = list(dados['NOME'])\n",
        "nomes\n",
        "\n",
        "idades = list(dados['IDADE'])"
      ],
      "metadata": {
        "id": "84VUhI_Hghw7"
      },
      "execution_count": null,
      "outputs": []
    },
    {
      "cell_type": "code",
      "source": [],
      "metadata": {
        "id": "AqBbW4CyXYUs"
      },
      "execution_count": null,
      "outputs": []
    },
    {
      "cell_type": "markdown",
      "source": [
        "___\n",
        "#### Execícios de revisão para a prova"
      ],
      "metadata": {
        "id": "1MgF7ug7rC_m"
      }
    },
    {
      "cell_type": "markdown",
      "source": [
        "##### Exercício 1"
      ],
      "metadata": {
        "id": "EYBOk0EdcmrS"
      }
    },
    {
      "cell_type": "code",
      "source": [
        "import math"
      ],
      "metadata": {
        "id": "RY3oSDgkrqRV"
      },
      "execution_count": null,
      "outputs": []
    },
    {
      "cell_type": "code",
      "source": [
        "P1 = [5.5, 5.0, 6.5, 7.0 ,5.7]\n",
        "P2 = [6.7, 9.0, 5.0, 3.0, 6.6]\n",
        "\n",
        "somaP1 = 0\n",
        "somaP2 = 0\n",
        "\n",
        "for contador in range(5):\n",
        "    somaP1 += P1[contador]\n",
        "    somaP2 += P2[contador]\n",
        "mediaP1 = somaP1 / 5\n",
        "mediaP2 = somaP2 / 5\n",
        "\n",
        "if mediaP1 > mediaP2:\n",
        "    print(f'A media maior é da prova1 : {mediaP1}')\n",
        "elif mediaP2 > mediaP1:\n",
        "    print(f'A media maior é da prova2 : {mediaP2}')"
      ],
      "metadata": {
        "colab": {
          "base_uri": "https://localhost:8080/"
        },
        "id": "Nv3cASO2kZ4C",
        "outputId": "1a5efbd8-ae0a-4846-9def-e3bf8349357d"
      },
      "execution_count": null,
      "outputs": [
        {
          "output_type": "stream",
          "name": "stdout",
          "text": [
            "A media maior é da prova2 : 6.06\n"
          ]
        }
      ]
    },
    {
      "cell_type": "markdown",
      "source": [
        "##### Exercício 2"
      ],
      "metadata": {
        "id": "k2SGxkxycqTg"
      }
    },
    {
      "cell_type": "code",
      "source": [
        "lista = [55, 423, 42, 65, 74, 457, 23, 15, 33, 100]\n",
        "Par = []\n",
        "Imp = []\n",
        "\n",
        "for valor in lista:\n",
        "    if valor %2 != 0:\n",
        "        Imp.append(valor)\n",
        "    elif valor %2 == 0:\n",
        "        Par.append(valor)\n",
        "print(f'A lista Impar é: {Imp}')\n",
        "print(f'A lista Par é: {Par}')\n"
      ],
      "metadata": {
        "colab": {
          "base_uri": "https://localhost:8080/"
        },
        "id": "ciCSJcz5r4AE",
        "outputId": "37285655-e334-4386-ee9d-a168f01ea1be"
      },
      "execution_count": null,
      "outputs": [
        {
          "output_type": "stream",
          "name": "stdout",
          "text": [
            "A lista Impar é: [55, 423, 65, 457, 23, 15, 33]\n",
            "A lista Par é: [42, 74, 100]\n"
          ]
        }
      ]
    },
    {
      "cell_type": "markdown",
      "source": [
        "##### Exercício 3"
      ],
      "metadata": {
        "id": "91WnnnW1cvFc"
      }
    },
    {
      "cell_type": "code",
      "source": [
        "\n",
        "dias = [\"Domingo\", \"Segunda\", \"Terça\", \"Quarta\", \"Quinta\", \"Sexta\", \"Sábado\"]\n",
        "\n",
        "num = int(input(\"Digite um número de 0-6 correspondente ao dia da semana, começando em Domingo \\n\"))\n",
        "\n",
        "print(f\"O {num}º dia da semana é: {dias[num]}\")"
      ],
      "metadata": {
        "colab": {
          "base_uri": "https://localhost:8080/"
        },
        "id": "w5kz5St0rUOb",
        "outputId": "cf2ef194-aca5-43bb-b91e-6558800d044e"
      },
      "execution_count": null,
      "outputs": [
        {
          "output_type": "stream",
          "name": "stdout",
          "text": [
            "Digite um número de 0-6 correspondente ao dia da semana, começando em Domingo \n",
            "3\n",
            "O 3º dia da semana é: Quarta\n"
          ]
        }
      ]
    },
    {
      "cell_type": "markdown",
      "source": [
        "##### Exercício 4"
      ],
      "metadata": {
        "id": "72o6RsGtcxtw"
      }
    },
    {
      "cell_type": "code",
      "source": [
        "times = (\"Palmeiras\", \"Água-Santa\", \"São Bernardo\", \"São Paulo\", \"Bragantino\", \"Corinthians\", \"Mirassol\", \"Guarani\", \"Botafogo SP\", \"Santo André\")\n",
        "\n",
        "print(f\"Os três primeiros são: \\n {times[:-3]}\\n\")\n",
        "print(f\"Os três últimos são: \\n {times[7:]}\\n\")\n",
        "print(f\"Os times em ordem Alfabética são: \\n {sorted(times)}\\n\")\n",
        "print(f\"O Corinthians esta na {times.index('Corinthians')}ª posição\")\n"
      ],
      "metadata": {
        "colab": {
          "base_uri": "https://localhost:8080/"
        },
        "id": "DVdZ604Mwtg3",
        "outputId": "f90388e1-a6ae-4a38-d391-a3ae84620f70"
      },
      "execution_count": null,
      "outputs": [
        {
          "output_type": "stream",
          "name": "stdout",
          "text": [
            "Os três primeiros são: \n",
            " ('Palmeiras', 'Água-Santa', 'São Bernardo', 'São Paulo', 'Bragantino', 'Corinthians', 'Mirassol')\n",
            "\n",
            "Os três últimos são: \n",
            " ('Guarani', 'Botafogo SP', 'Santo André')\n",
            "\n",
            "Os times em ordem Alfabética são: \n",
            " ['Botafogo SP', 'Bragantino', 'Corinthians', 'Guarani', 'Mirassol', 'Palmeiras', 'Santo André', 'São Bernardo', 'São Paulo', 'Água-Santa']\n",
            "\n",
            "O Corinthians esta na 5ª posição\n"
          ]
        }
      ]
    },
    {
      "cell_type": "markdown",
      "source": [
        "##### Exercício 5\n"
      ],
      "metadata": {
        "id": "WK_EolSYc1B6"
      }
    },
    {
      "cell_type": "code",
      "source": [
        "tabela = pd.read_excel(\"/content/base-de-dados-cliente.xlsx\")\n",
        "tabela\n",
        "\n",
        "LOJAS = list(tabela['LOJA'])\n",
        "GENEROS = list(tabela['GÊNERO'])\n",
        "VALORES = list(tabela['VALOR'])\n",
        "\n",
        "# Mostre todas as vendas acima de 250k e as lojas onde foram efetuadas\n",
        "# Salve os dois em uma nova lista"
      ],
      "metadata": {
        "id": "0Sy16y62yVZj"
      },
      "execution_count": null,
      "outputs": []
    },
    {
      "cell_type": "code",
      "source": [
        "tabela"
      ],
      "metadata": {
        "id": "A9uhwjQVCbPm"
      },
      "execution_count": null,
      "outputs": []
    },
    {
      "cell_type": "code",
      "source": [
        "# Mostre todas as vendas acima de 250k e as lojas onde foram efetuadas\n",
        "# Salve os dois em uma nova lista  (usei dicionário)\n",
        "\n",
        "val_loj = dict()\n",
        "\n",
        "for i in range(len(VALORES)):\n",
        "    # Se o valor > 250, usa-o como key no dicionário e o nome da loja como \n",
        "    # o value.\n",
        "    if VALORES[i] > 250:\n",
        "        val_loj[VALORES[i]] = LOJAS[i]\n",
        "\n",
        "print(val_loj)   "
      ],
      "metadata": {
        "id": "rRlSjmaMC3sI"
      },
      "execution_count": null,
      "outputs": []
    },
    {
      "cell_type": "code",
      "source": [
        "# Mostre quantas vendas foram feitas para a cidade de Uberaba.\n",
        "soma = 0;\n",
        "\n",
        "for valor, loja in val_loj.items():\n",
        "    if loja == \"Uberaba\":\n",
        "        soma += valor\n",
        "\n",
        "print(f\"{soma} vendas foram realizadas na cidade de Uberaba\")"
      ],
      "metadata": {
        "id": "6lM3Hz2BNTuF"
      },
      "execution_count": null,
      "outputs": []
    },
    {
      "cell_type": "code",
      "source": [
        "# Quantos clientes são do sexo feminino?\n",
        "generos = list(tabela[\"GÊNERO\"])\n",
        "\n",
        "soma = 0\n",
        "for sexo in generos:\n",
        "    if sexo == 'Feminino':\n",
        "        soma += 1;\n",
        "\n",
        "print(f\"Há {soma} clientes do sexo feminino\")"
      ],
      "metadata": {
        "id": "R_Mp0MtkPlho"
      },
      "execution_count": null,
      "outputs": []
    },
    {
      "cell_type": "code",
      "source": [
        "lista1 = [1, 2, 3]\n",
        "lista2 = [4, 5, 6]\n",
        "\n",
        "lista1.extend(lista2)\n",
        "\n",
        "enumerate(lista1)"
      ],
      "metadata": {
        "colab": {
          "base_uri": "https://localhost:8080/"
        },
        "id": "CCgdIEo3CScn",
        "outputId": "e33bf612-f3e7-4962-a09e-c16c5bb9085d"
      },
      "execution_count": null,
      "outputs": [
        {
          "output_type": "execute_result",
          "data": {
            "text/plain": [
              "<enumerate at 0x7fbbf8f2ff80>"
            ]
          },
          "metadata": {},
          "execution_count": 9
        }
      ]
    },
    {
      "cell_type": "code",
      "source": [],
      "metadata": {
        "id": "nkHR8iNpCYKO"
      },
      "execution_count": null,
      "outputs": []
    },
    {
      "cell_type": "markdown",
      "source": [
        "____\n",
        "____\n",
        "### Aula 19-04 - Dicionários"
      ],
      "metadata": {
        "id": "bQylFU1QlriY"
      }
    },
    {
      "cell_type": "markdown",
      "source": [
        "##### Correção da prova"
      ],
      "metadata": {
        "id": "wWM9JeuhsHoV"
      }
    },
    {
      "cell_type": "code",
      "source": [
        "lista = [1,2,3,4,5,6,7,8]\n",
        "print(lista[:-1])"
      ],
      "metadata": {
        "colab": {
          "base_uri": "https://localhost:8080/"
        },
        "id": "SxCdHFezlu2i",
        "outputId": "ec6aa9ba-3306-47f9-992a-4794823b06d7"
      },
      "execution_count": null,
      "outputs": [
        {
          "output_type": "stream",
          "name": "stdout",
          "text": [
            "[1, 2, 3, 4, 5, 6, 7]\n"
          ]
        }
      ]
    },
    {
      "cell_type": "code",
      "source": [
        "listaA = [1,2,3]\n",
        "listaB = [4,5,6]\n",
        "\n",
        "for i in range(3):\n",
        "    print(listaA[i] + listaB[i])"
      ],
      "metadata": {
        "colab": {
          "base_uri": "https://localhost:8080/"
        },
        "id": "uVW4iUQhr2LM",
        "outputId": "d6b39770-36ee-4da7-d60a-6e1c686b4866"
      },
      "execution_count": null,
      "outputs": [
        {
          "output_type": "stream",
          "name": "stdout",
          "text": [
            "5\n",
            "7\n",
            "9\n"
          ]
        }
      ]
    },
    {
      "cell_type": "markdown",
      "source": [
        "##### Dicionários\n",
        "Coleção associativa ordenada representada por {chave, valor}"
      ],
      "metadata": {
        "id": "afOaKVs-yx6Y"
      }
    },
    {
      "cell_type": "code",
      "source": [
        "pessoas = {'josé': 20, 'andré': 55, 'marquinhos': 11, 'paulo': 43}\n",
        "\n",
        "pessoas['josé'] = 30;\n",
        "\n",
        "pessoas['anderson'] = 100;\n",
        "\n",
        "list(pessoas)"
      ],
      "metadata": {
        "colab": {
          "base_uri": "https://localhost:8080/"
        },
        "id": "XoFJLe3ny5Qp",
        "outputId": "82ecbaeb-41c2-426f-e596-a53cd48f1246"
      },
      "execution_count": null,
      "outputs": [
        {
          "output_type": "execute_result",
          "data": {
            "text/plain": [
              "['josé', 'andré', 'marquinhos', 'paulo', 'anderson']"
            ]
          },
          "metadata": {},
          "execution_count": 28
        }
      ]
    },
    {
      "cell_type": "code",
      "source": [
        "# Adicionar itens com input e iterar  no dicionário\n",
        "for k, v in pessoas.items():\n",
        "    print(k,v)"
      ],
      "metadata": {
        "colab": {
          "base_uri": "https://localhost:8080/"
        },
        "id": "cHxM-HWC48Ar",
        "outputId": "a715a64a-3ace-4a8c-c6c5-b2302f0c93f2"
      },
      "execution_count": null,
      "outputs": [
        {
          "output_type": "stream",
          "name": "stdout",
          "text": [
            "josé 30\n",
            "andré 55\n",
            "marquinhos 11\n",
            "paulo 43\n",
            "anderson 100\n"
          ]
        }
      ]
    },
    {
      "cell_type": "code",
      "source": [
        "# Dicionários em lista\n",
        "estado1 = {'uf': 'São Paulo', 'sigla': 'SP'}\n",
        "estado2 = {'uf': 'Minas Gerais', 'sigla': 'MG'}\n",
        "\n",
        "brasil = []\n",
        "\n",
        "brasil.append(estado1)\n",
        "brasil.append(estado2)"
      ],
      "metadata": {
        "id": "nMH1dFPr6nbg"
      },
      "execution_count": null,
      "outputs": []
    },
    {
      "cell_type": "code",
      "source": [
        "# Retornar item da lista e item do dicionário\n",
        "brasil[1]\n",
        "brasil[1]['uf']"
      ],
      "metadata": {
        "colab": {
          "base_uri": "https://localhost:8080/",
          "height": 35
        },
        "id": "KTCpDZei8s2-",
        "outputId": "6b494fd6-42c3-4c8d-8880-dd7e15602c2b"
      },
      "execution_count": null,
      "outputs": [
        {
          "output_type": "execute_result",
          "data": {
            "text/plain": [
              "'Minas Gerais'"
            ],
            "application/vnd.google.colaboratory.intrinsic+json": {
              "type": "string"
            }
          },
          "metadata": {},
          "execution_count": 43
        }
      ]
    },
    {
      "cell_type": "code",
      "source": [],
      "metadata": {
        "id": "NZhwaLfE-gaI"
      },
      "execution_count": null,
      "outputs": []
    },
    {
      "cell_type": "markdown",
      "source": [
        "-----\n",
        "---\n",
        "### Aula 03-05 - Exercícios com Dicionários e vetores"
      ],
      "metadata": {
        "id": "SgAPyWHTsBRK"
      }
    },
    {
      "cell_type": "markdown",
      "source": [
        "#### Exercício 1\n",
        "Crie uma agenda de contatos contendo nome e celular de n pessoas, armazenados em um dicionário. Em seguida crie métodos para consultar, inserir,  alterar, e deletar itens neste dicionário. Os dados devem ser lidos pelo teclado. "
      ],
      "metadata": {
        "id": "QwVKF1cNsnoZ"
      }
    },
    {
      "cell_type": "code",
      "source": [
        "agenda = dict()\n",
        "\n",
        "while True:\n",
        "    print(\"1. Consultar \\n2. Inserir \\n3. Alterar nº \\n4. Remover\")\n",
        "    opcao = int(input(\"> \"))\n",
        "\n",
        "    print(\"\\n\")\n",
        "\n",
        "    if opcao == 1:\n",
        "        for k, v in agenda.items():\n",
        "            print(k,v)\n",
        "\n",
        "    elif opcao == 2:\n",
        "        nome = input(\"Nome: \")\n",
        "        num = input(\"Número: \")\n",
        "\n",
        "        agenda[nome] = num\n",
        "    \n",
        "    elif opcao == 3:\n",
        "        nome = input(\"Contato a alterar: \")\n",
        "        num = input(\"Novo número: \")\n",
        "\n",
        "        agenda[nome] = num\n",
        "\n",
        "    elif opcao == 4:\n",
        "        nome = input(\"Contato a remover: \")\n",
        "        agenda.pop(nome)\n",
        "\n",
        "    else:\n",
        "        print(\"Chave inválida\")"
      ],
      "metadata": {
        "id": "eSXCALciurqk"
      },
      "execution_count": null,
      "outputs": []
    },
    {
      "cell_type": "markdown",
      "source": [
        "#### Exercício 2\n",
        "Cadastre em uma tupla 5 nomes. Em seguida crie um dicionário onde a chave deverá ser um número aleatório entre 0 e 100 e o valor deverá ser os nomes cadastrados na tupla.**negrito**"
      ],
      "metadata": {
        "id": "tpo-tAbGs4TI"
      }
    },
    {
      "cell_type": "code",
      "source": [
        "import random\n",
        "\n",
        "nomes = (\"vitao\",\"alisson\",\"guilherme\",\"gabriel\",\"gilberto\")\n",
        "\n",
        "dicio = {random.randint(0, 100): nomes[random.randint(0, 4)]} \n",
        "\n",
        "for k, v in dicio.items():\n",
        "    print(k,v)\n"
      ],
      "metadata": {
        "colab": {
          "base_uri": "https://localhost:8080/"
        },
        "id": "DWDD5y9K0zfN",
        "outputId": "f40e668f-41ee-4393-c6aa-1287d3c847b4"
      },
      "execution_count": null,
      "outputs": [
        {
          "output_type": "stream",
          "name": "stdout",
          "text": [
            "64 vitao\n"
          ]
        }
      ]
    },
    {
      "cell_type": "markdown",
      "source": [
        "#### Exercício 3\n",
        "Cadastre 5 funcionários em um dicionário, pelo teclado, com as seguintes chaves: nome, idade cargo salário. No final, mostre o conteúdo do dicionário ea média dos salários."
      ],
      "metadata": {
        "id": "nFyScvcKtI6H"
      }
    },
    {
      "cell_type": "code",
      "source": [
        "funcionarios = []\n",
        "\n",
        "for i in range(5):\n",
        "    nome = input(\"Nome: \")\n",
        "    idade = int(input(\"Idade: \"))\n",
        "    cargo = input(\"Cargo: \")\n",
        "    salario = float(input(\"Salário: \"))\n",
        "\n",
        "    dic = {\n",
        "        'Nome': nome,\n",
        "        'Idade': idade,\n",
        "        'Cargo': cargo,\n",
        "        'Salário': salario\n",
        "    }\n",
        "    \n",
        "    funcionarios.append(dic)\n",
        "\n",
        "for pessoa in funcionarios:\n",
        "    for k, v in pessoa.items():\n",
        "        print(\"\\n\")\n",
        "        print(f\"{k}: {v}\")"
      ],
      "metadata": {
        "id": "vwX0T9Sj3mWm",
        "colab": {
          "base_uri": "https://localhost:8080/"
        },
        "outputId": "b057a5f9-1c4f-4ee8-c65d-7e636b3bd8cf"
      },
      "execution_count": null,
      "outputs": [
        {
          "output_type": "stream",
          "name": "stdout",
          "text": [
            "\n",
            "\n",
            "Nome: Alisson\n",
            "\n",
            "\n",
            "Idade: 10\n",
            "\n",
            "\n",
            "Cargo: Seila\n",
            "\n",
            "\n",
            "Salário: 0\n",
            "\n",
            "\n",
            "Nome: Alisson\n",
            "\n",
            "\n",
            "Idade: 11\n",
            "\n",
            "\n",
            "Cargo: Seila\n",
            "\n",
            "\n",
            "Salário: 500\n",
            "\n",
            "\n",
            "Nome: Alisson\n",
            "\n",
            "\n",
            "Idade: 12\n",
            "\n",
            "\n",
            "Cargo: Seila\n",
            "\n",
            "\n",
            "Salário: 1000\n",
            "\n",
            "\n",
            "Nome: Alisson\n",
            "\n",
            "\n",
            "Idade: 13\n",
            "\n",
            "\n",
            "Cargo: Seila\n",
            "\n",
            "\n",
            "Salário: 1500\n",
            "\n",
            "\n",
            "Nome: Alisson\n",
            "\n",
            "\n",
            "Idade: 14\n",
            "\n",
            "\n",
            "Cargo: Seila\n",
            "\n",
            "\n",
            "Salário: 2000\n"
          ]
        }
      ]
    },
    {
      "cell_type": "markdown",
      "source": [
        "#### Exercício 4\n",
        "Carregue um vetor com 5 números inteiros e mostre o maior deles sem usar a função max()"
      ],
      "metadata": {
        "id": "Kp11u3XStplu"
      }
    },
    {
      "cell_type": "code",
      "source": [
        "import numpy as np\n",
        "\n",
        "num = np.array([2,5,6,4,9])\n",
        "\n",
        "maior = 0\n",
        "\n",
        "for i in np.nditer(num):\n",
        "    if i > maior:\n",
        "        maior = i\n",
        "\n",
        "print(\"O maior da lista é:\", maior)"
      ],
      "metadata": {
        "colab": {
          "base_uri": "https://localhost:8080/"
        },
        "id": "1qDpwfL9sEl6",
        "outputId": "07a364a8-7303-4479-f90e-ccfed0cf56e5"
      },
      "execution_count": null,
      "outputs": [
        {
          "output_type": "stream",
          "name": "stdout",
          "text": [
            "O maior da lista é:  9\n"
          ]
        }
      ]
    },
    {
      "cell_type": "markdown",
      "source": [
        "#### Exercício 5\n",
        "Carregue um vetor com 3 notas e mostre a média das notas, sem usar a função mean()."
      ],
      "metadata": {
        "id": "sbTGd_nj7Bcm"
      }
    },
    {
      "cell_type": "code",
      "source": [
        "import numpy as np\n",
        "\n",
        "notas = np.array([6.5, 8.3, 9.2])\n",
        "\n",
        "soma = 0\n",
        "\n",
        "for i in np.nditer(notas):\n",
        "    soma = soma + i\n",
        "\n",
        "print(\"Média das notas: \", soma/3)"
      ],
      "metadata": {
        "id": "WCyhekKt7T9d",
        "colab": {
          "base_uri": "https://localhost:8080/"
        },
        "outputId": "0c6c1bdc-2a51-4329-eaba-3ed6bebcb87f"
      },
      "execution_count": null,
      "outputs": [
        {
          "output_type": "stream",
          "name": "stdout",
          "text": [
            "Média das notas:  8.0\n"
          ]
        }
      ]
    },
    {
      "cell_type": "markdown",
      "source": [
        "#### Exercício 6\n",
        "Cadastre em vetores os nomes e as idades de 5 pessoas. Em seguida, mostre a idade e a pessoa mais velha cadastrada"
      ],
      "metadata": {
        "id": "bDOUXj8BHEhy"
      }
    },
    {
      "cell_type": "code",
      "source": [
        "pessoas = np.empty(5, dict)\n",
        "\n",
        "anciao = 0\n",
        "indice = 0\n",
        "\n",
        "for i in range(5):\n",
        "    nome = input(\"Nome: \")\n",
        "    idade = int(input(\"Idade: \"))\n",
        "\n",
        "    pessoas[i] = {idade: nome}\n",
        "\n",
        "    if idade > anciao:\n",
        "        anciao = idade\n",
        "        indice = i\n",
        "\n",
        "print(f\"A pessoa mais velha é {pessoas[indice].get(anciao)} com {anciao} anos\")"
      ],
      "metadata": {
        "colab": {
          "base_uri": "https://localhost:8080/"
        },
        "id": "hZu7gdhpyOyE",
        "outputId": "6ed0a16e-4a72-4658-884f-ed59029bfc31"
      },
      "execution_count": null,
      "outputs": [
        {
          "output_type": "stream",
          "name": "stdout",
          "text": [
            "Nome: aaa\n",
            "Idade: 11\n",
            "Nome: bb\n",
            "Idade: 22\n",
            "Nome: cc\n",
            "Idade: 33\n",
            "Nome: dd\n",
            "Idade: 44\n",
            "Nome: ee\n",
            "Idade: 55\n",
            "A pessoa mais velha é ee com 55 anos\n"
          ]
        }
      ]
    },
    {
      "cell_type": "markdown",
      "source": [
        "#### Exercício 7\n",
        "Escreva um programa que armazene 5 números em um vetor e\n",
        "mostre o menor deles."
      ],
      "metadata": {
        "id": "Q9AszplEHI0b"
      }
    },
    {
      "cell_type": "code",
      "source": [
        "num = np.random.randint(100, size=(5))\n",
        "menor = 101\n",
        "\n",
        "for i in np.nditer(num):\n",
        "    if i < menor:\n",
        "        menor = i\n",
        "\n",
        "print(num)\n",
        "print(\"O menor da lista é:\", menor)"
      ],
      "metadata": {
        "colab": {
          "base_uri": "https://localhost:8080/"
        },
        "id": "WuGLDYCD1-DK",
        "outputId": "8546a6f8-54e2-464b-cb98-ae570acef2c9"
      },
      "execution_count": null,
      "outputs": [
        {
          "output_type": "stream",
          "name": "stdout",
          "text": [
            "[63 98  4 68 37]\n",
            "O menor da lista é: 4\n"
          ]
        }
      ]
    },
    {
      "cell_type": "markdown",
      "source": [
        "#### Exercício 8\n",
        "Faça download do arquivo \"base-dados-funcionarios\", que se\n",
        "encontra na sala do Classroom. Em seguida, crie 4 listas para cada\n",
        "coluna do Dataframe criado. Em seguida, crie um dicionário onde a\n",
        "chave sejam os nomes e o valor sejam as idades"
      ],
      "metadata": {
        "id": "QCDpN88OHNim"
      }
    },
    {
      "cell_type": "code",
      "source": [
        "import pandas as pd\n",
        "\n",
        "tabela = pd.read_excel(\"/content/base-dados-funcionarios.xlsx\")\n",
        "\n",
        "nomecol = list(tabela['NOME'])\n",
        "idadecol = list(tabela['IDADE'])\n",
        "proficol = list(tabela['PROFISSAO'])\n",
        "salcol = list(tabela['SALARIO'])\n",
        "\n",
        "linhas = tabela.shape[0]\n",
        "\n",
        "pessoas = dict()\n",
        "\n",
        "for i in range(linhas):\n",
        "    pessoas[nomecol[i]] = idadecol[i]\n",
        "\n",
        "for k, v in pessoas.items():\n",
        "    print(f\"{k}: {v} anos\")"
      ],
      "metadata": {
        "colab": {
          "base_uri": "https://localhost:8080/"
        },
        "id": "2PJxtWsy4u-L",
        "outputId": "a0c84265-b67a-450b-93a9-94acafbeb2d5"
      },
      "execution_count": null,
      "outputs": [
        {
          "output_type": "stream",
          "name": "stdout",
          "text": [
            "Luana: 18 anos\n",
            "Paulo: 19 anos\n",
            "Cláudio: 56 anos\n",
            "Virginia: 34 anos\n",
            "Lurdes: 45 anos\n",
            "Maria: 44 anos\n",
            "Nestor: 32 anos\n",
            "Alexandre: 36 anos\n",
            "Misael: 59 anos\n",
            "Gustavo: 40 anos\n",
            "Diana: 56 anos\n",
            "Fernando: 17 anos\n",
            "Isabela: 76 anos\n",
            "Virgínia: 32 anos\n",
            "Talita: 39 anos\n",
            "Marcos: 59 anos\n",
            "Geraldo: 23 anos\n",
            "Monique: 21 anos\n",
            "Yolanda: 24 anos\n",
            "Vitor: 33 anos\n"
          ]
        }
      ]
    },
    {
      "cell_type": "code",
      "source": [],
      "metadata": {
        "id": "fSOmkHdy5Be2"
      },
      "execution_count": null,
      "outputs": []
    },
    {
      "cell_type": "markdown",
      "source": [
        "-----\n",
        "---\n",
        "### Aula 10-05 - Prova A2"
      ],
      "metadata": {
        "id": "XPJpw4yrvZsx"
      }
    },
    {
      "cell_type": "markdown",
      "source": [
        "#### Exercício 1"
      ],
      "metadata": {
        "id": "Hd8PlgwUvf84"
      }
    },
    {
      "cell_type": "code",
      "source": [
        "lista = [\n",
        "    'Telefonou para a vítima?', \n",
        "    'Esteve no local do crime?',\n",
        "    'Mora perto da vítima?',\n",
        "    'Devia para a vítima?',\n",
        "    'Já trabalho com a vítima?']\n",
        "\n",
        "resposta = ''\n",
        "contador = 0\n",
        "\n",
        "for i in range(5):\n",
        "    resposta = input(lista[i] + '(S/N)')\n",
        "\n",
        "    if resposta != 'S' and resposta != 'N':\n",
        "        print('Resposta inválida')\n",
        "        break\n",
        "    \n",
        "    if resposta == 'S':\n",
        "        contador += 1\n",
        "print('')\n",
        "if contador == 2:\n",
        "    print('Pessoa suspeita.')\n",
        "elif contador >= 3 and contador <= 4:\n",
        "    print('Pessoa cúmplice.')\n",
        "elif contador == 5:\n",
        "    print('Pessoa assasina.')\n",
        "else:\n",
        "    print('Pessoa inocente.')\n",
        "        \n"
      ],
      "metadata": {
        "colab": {
          "base_uri": "https://localhost:8080/"
        },
        "id": "ryBocNXNvdVa",
        "outputId": "63f66cdd-db47-48b9-90d5-c3942ea882dc"
      },
      "execution_count": null,
      "outputs": [
        {
          "output_type": "stream",
          "name": "stdout",
          "text": [
            "Telefonou para a vítima?(S/N)S\n",
            "Esteve no local do crime?(S/N)S\n",
            "Mora perto da vítima?(S/N)S\n",
            "Devia para a vítima?(S/N)S\n",
            "Já trabalho com a vítima?(S/N)S\n",
            "\n",
            "Pessoa assasina.\n"
          ]
        }
      ]
    },
    {
      "cell_type": "markdown",
      "source": [
        "### Exercício 3"
      ],
      "metadata": {
        "id": "7eYbk0B30VIX"
      }
    },
    {
      "cell_type": "code",
      "source": [
        "estoque = {\n",
        "    \"tomate\": [1000, 2.30],\n",
        "    \"alface\": [500, 0.45],\n",
        "    \"batata\": [2000, 1.20],\n",
        "    \"feijão\": [100, 1.50]\n",
        "    }\n",
        "\n",
        "resposta = ''\n",
        "\n",
        "while resposta != 'N':\n",
        "    print('=======================================')\n",
        "    for k, v in estoque.items():\n",
        "        print(f\"{k} / QTD: {v[0]}, R$ {v[1]}\")\n",
        "        \n",
        "    print('')\n",
        "    opcao = input(\"Escolha um item: \")\n",
        "    quantidade = int(input('Escolha a quantidade: '))\n",
        "    valores = estoque.get(opcao)\n",
        "    #Subtrai a quantidade           \n",
        "    estoque[opcao] = [valores[0] - quantidade, valores[1]]\n",
        "\n",
        "    print(f'O valor total da compra de {opcao} é: ', valores[1] * quantidade)\n",
        "    resposta = input('Deseja continuar comprando? (S/N)')\n",
        "    print('')\n",
        "\n",
        "for k, v in estoque.items():\n",
        "        print(f\"{k} / QTD: {v[0]}, R$ {v[1]}\")\n",
        "\n",
        "print('=======================================')\n"
      ],
      "metadata": {
        "colab": {
          "base_uri": "https://localhost:8080/"
        },
        "id": "6OCYlbtHy1tq",
        "outputId": "a61af69b-8656-4a4a-bff5-d356bb08182e"
      },
      "execution_count": null,
      "outputs": [
        {
          "output_type": "stream",
          "name": "stdout",
          "text": [
            "=======================================\n",
            "tomate / QTD: 1000, R$ 2.3\n",
            "alface / QTD: 500, R$ 0.45\n",
            "batata / QTD: 2000, R$ 1.2\n",
            "feijão / QTD: 100, R$ 1.5\n",
            "\n",
            "Escolha um item: alface\n",
            "Escolha a quantidade: 2\n",
            "O valor total da compra de alface é:  0.9\n",
            "Deseja continuar comprando? (S/N)S\n",
            "\n",
            "=======================================\n",
            "tomate / QTD: 1000, R$ 2.3\n",
            "alface / QTD: 498, R$ 0.45\n",
            "batata / QTD: 2000, R$ 1.2\n",
            "feijão / QTD: 100, R$ 1.5\n",
            "\n",
            "Escolha um item: batata\n",
            "Escolha a quantidade: 22\n",
            "O valor total da compra de batata é:  26.4\n",
            "Deseja continuar comprando? (S/N)n\n",
            "\n",
            "=======================================\n",
            "tomate / QTD: 1000, R$ 2.3\n",
            "alface / QTD: 498, R$ 0.45\n",
            "batata / QTD: 1978, R$ 1.2\n",
            "feijão / QTD: 100, R$ 1.5\n",
            "\n",
            "Escolha um item: tomate\n",
            "Escolha a quantidade: 10\n",
            "O valor total da compra de tomate é:  23.0\n",
            "Deseja continuar comprando? (S/N)N\n",
            "\n",
            "tomate / QTD: 990, R$ 2.3\n",
            "alface / QTD: 498, R$ 0.45\n",
            "batata / QTD: 1978, R$ 1.2\n",
            "feijão / QTD: 100, R$ 1.5\n",
            "=======================================\n"
          ]
        }
      ]
    },
    {
      "cell_type": "code",
      "source": [],
      "metadata": {
        "id": "WnbaGNcV0mH_"
      },
      "execution_count": null,
      "outputs": []
    }
  ]
}